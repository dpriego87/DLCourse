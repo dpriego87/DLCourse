{
 "cells": [
  {
   "cell_type": "code",
   "execution_count": 1,
   "metadata": {},
   "outputs": [],
   "source": [
    "# Imports\n",
    "import numpy as np\n",
    "import matplotlib.pyplot as plt\n",
    "%matplotlib inline"
   ]
  },
  {
   "cell_type": "code",
   "execution_count": 2,
   "metadata": {},
   "outputs": [],
   "source": [
    "# Hyper-parameters\n",
    "n_epochs = 10\n",
    "learn_rate = 0.1"
   ]
  },
  {
   "cell_type": "code",
   "execution_count": 3,
   "metadata": {},
   "outputs": [
    {
     "name": "stdout",
     "output_type": "stream",
     "text": [
      "[[0 0]\n",
      " [0 1]\n",
      " [1 0]\n",
      " [1 1]]\n",
      "[0 1 1 1]\n"
     ]
    }
   ],
   "source": [
    "# Variables X and y\n",
    "X = np.array([[0, 0], [0, 1], [1, 0], [1, 1]])\n",
    "y = np.array([0, 1, 1, 1])\n",
    "print(X)\n",
    "print(y)"
   ]
  },
  {
   "cell_type": "code",
   "execution_count": 4,
   "metadata": {},
   "outputs": [
    {
     "name": "stdout",
     "output_type": "stream",
     "text": [
      "[0. 0. 0.]\n"
     ]
    }
   ],
   "source": [
    "# Parameters\n",
    "W = np.zeros(3)\n",
    "#W = np.random.rand(3)\n",
    "print(W)"
   ]
  },
  {
   "cell_type": "code",
   "execution_count": 5,
   "metadata": {},
   "outputs": [],
   "source": [
    "# Activation function\n",
    "def activation(z):\n",
    "    return 1 if z >= 0 else 0"
   ]
  },
  {
   "cell_type": "code",
   "execution_count": 6,
   "metadata": {},
   "outputs": [],
   "source": [
    "# Prediction\n",
    "def predict(W, x):\n",
    "    z = W.T.dot(x)\n",
    "    a = activation(z)\n",
    "    return a"
   ]
  },
  {
   "cell_type": "code",
   "execution_count": 7,
   "metadata": {},
   "outputs": [
    {
     "name": "stdout",
     "output_type": "stream",
     "text": [
      "epoch 0 -- error: [-1, 1, 0, 0]\n",
      "epoch 1 -- error: [-1, 0, 1, 0]\n",
      "epoch 2 -- error: [-1, 0, 0, 0]\n",
      "epoch 3 -- error: [0, 0, 0, 0]\n",
      "epoch 4 -- error: [0, 0, 0, 0]\n",
      "epoch 5 -- error: [0, 0, 0, 0]\n",
      "epoch 6 -- error: [0, 0, 0, 0]\n",
      "epoch 7 -- error: [0, 0, 0, 0]\n",
      "epoch 8 -- error: [0, 0, 0, 0]\n",
      "epoch 9 -- error: [0, 0, 0, 0]\n"
     ]
    }
   ],
   "source": [
    "# Training\n",
    "epoch_error = list()\n",
    "for epoch in range(n_epochs):\n",
    "    err = list()\n",
    "    for i in range(len(X)):\n",
    "        x = np.insert(X[i], 0, 1)\n",
    "        y_hat = predict(W, x)\n",
    "        e = y[i] - y_hat\n",
    "        #print(e)\n",
    "        err.append(e)\n",
    "        W = W + learn_rate * e * x\n",
    "    print(\"epoch {} -- error: {}\".format(epoch, err))\n",
    "    epoch_error.append(np.array(err).mean())"
   ]
  },
  {
   "cell_type": "code",
   "execution_count": 8,
   "metadata": {},
   "outputs": [
    {
     "data": {
      "text/plain": [
       "[<matplotlib.lines.Line2D at 0x27792d59ac8>]"
      ]
     },
     "execution_count": 8,
     "metadata": {},
     "output_type": "execute_result"
    },
    {
     "data": {
      "image/png": "[encoded data removed]",
      "text/plain": [
       "<Figure size 432x288 with 1 Axes>"
      ]
     },
     "metadata": {
      "needs_background": "light"
     },
     "output_type": "display_data"
    }
   ],
   "source": [
    "# Plot error\n",
    "plt.plot(epoch_error)"
   ]
  },
  {
   "cell_type": "code",
   "execution_count": 9,
   "metadata": {},
   "outputs": [
    {
     "name": "stdout",
     "output_type": "stream",
     "text": [
      "[-0.1  0.1  0.1]\n"
     ]
    }
   ],
   "source": [
    "# Print weigths\n",
    "print(W)"
   ]
  },
  {
   "cell_type": "code",
   "execution_count": 10,
   "metadata": {},
   "outputs": [
    {
     "name": "stdout",
     "output_type": "stream",
     "text": [
      "[0 1 1 1]\n"
     ]
    }
   ],
   "source": [
    "# Make predictions and show them\n",
    "y_predict = np.array([predict(W, np.insert(x, 0, 1)) for x in X])\n",
    "print(y_predict)"
   ]
  },
  {
   "cell_type": "code",
   "execution_count": null,
   "metadata": {},
   "outputs": [],
   "source": []
  }
 ],
 "metadata": {
  "kernelspec": {
   "display_name": "Python 3",
   "language": "python",
   "name": "python3"
  },
  "language_info": {
   "codemirror_mode": {
    "name": "ipython",
    "version": 3
   },
   "file_extension": ".py",
   "mimetype": "text/x-python",
   "name": "python",
   "nbconvert_exporter": "python",
   "pygments_lexer": "ipython3",
   "version": "3.6.6"
  }
 },
 "nbformat": 4,
 "nbformat_minor": 2
}
