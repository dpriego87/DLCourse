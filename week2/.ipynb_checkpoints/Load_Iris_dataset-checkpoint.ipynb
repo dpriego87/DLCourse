{
 "cells": [
  {
   "cell_type": "markdown",
   "metadata": {},
   "source": [
    "Este notebook es un template de inicio que puedes modificar.\n",
    "Este template importa el dataset iris, y muestra algunas de sus caracteristicas."
   ]
  },
  {
   "cell_type": "code",
   "execution_count": 1,
   "metadata": {},
   "outputs": [],
   "source": [
    "# Imports\n",
    "from sklearn import datasets\n",
    "import numpy as np\n",
    "import matplotlib.pyplot as plt"
   ]
  },
  {
   "cell_type": "code",
   "execution_count": 2,
   "metadata": {},
   "outputs": [
    {
     "name": "stdout",
     "output_type": "stream",
     "text": [
      "There are 100 elements of 2 features.\n",
      "And there are (100,) labels.\n"
     ]
    }
   ],
   "source": [
    "# Import the dataset\n",
    "iris = datasets.load_iris()\n",
    "X = iris.data[:100, :2]  # Features: Take just the first 2 dimensions from the first 100 elements.\n",
    "y = iris.target[:100]    # Labels:   Also just the first 100 elements.\n",
    "print(f\"There are {X.shape[0]} elements of {X.shape[1]} features.\")\n",
    "print(f\"And there are {y.shape} labels.\")"
   ]
  },
  {
   "cell_type": "code",
   "execution_count": 4,
   "metadata": {},
   "outputs": [
    {
     "name": "stdout",
     "output_type": "stream",
     "text": [
      "These are the labels\n",
      " [0 0 0 0 0 0 0 0 0 0 0 0 0 0 0 0 0 0 0 0 0 0 0 0 0 0 0 0 0 0 0 0 0 0 0 0 0\n",
      " 0 0 0 0 0 0 0 0 0 0 0 0 0 1 1 1 1 1 1 1 1 1 1 1 1 1 1 1 1 1 1 1 1 1 1 1 1\n",
      " 1 1 1 1 1 1 1 1 1 1 1 1 1 1 1 1 1 1 1 1 1 1 1 1 1 1]\n",
      "These are the first 10 elements\n",
      " [[5.1 3.5]\n",
      " [4.9 3. ]\n",
      " [4.7 3.2]\n",
      " [4.6 3.1]\n",
      " [5.  3.6]\n",
      " [5.4 3.9]\n",
      " [4.6 3.4]\n",
      " [5.  3.4]\n",
      " [4.4 2.9]\n",
      " [4.9 3.1]]\n"
     ]
    }
   ],
   "source": [
    "# Print the labels\n",
    "print(f\"These are the labels\\n {y}\")\n",
    "print(f\"These are the first 10 elements\\n {X[:10]}\")"
   ]
  },
  {
   "cell_type": "code",
   "execution_count": 6,
   "metadata": {},
   "outputs": [
    {
     "data": {
      "text/plain": [
       "<matplotlib.legend.Legend at 0x7f8bfb5485f8>"
      ]
     },
     "execution_count": 6,
     "metadata": {},
     "output_type": "execute_result"
    },
    {
     "data": {
      "image/png": "[encoded data removed]",
      "text/plain": [
       "<Figure size 864x576 with 1 Axes>"
      ]
     },
     "metadata": {},
     "output_type": "display_data"
    }
   ],
   "source": [
    "# Plot the first 100 elements as a function of their first two dimensions\n",
    "fig = plt.figure(figsize=(12, 8))\n",
    "plt.plot(X[y==0, 0], X[y==0, 1], 'b.', label='Setosa')\n",
    "plt.plot(X[y==1, 0], X[y==1, 1], 'r.', label='Versicolour')\n",
    "plt.legend()"
   ]
  },
  {
   "cell_type": "code",
   "execution_count": 7,
   "metadata": {},
   "outputs": [
    {
     "name": "stdout",
     "output_type": "stream",
     "text": [
      "Variable   Type       Data/Info\n",
      "-------------------------------\n",
      "X          ndarray    100x2: 200 elems, type `float64`, 1600 bytes\n",
      "datasets   module     <module 'sklearn.datasets<...>rn/datasets/__init__.py'>\n",
      "fig        Figure     Figure(864x576)\n",
      "iris       Bunch      {'data': array([[5.1, 3.5<...>m)', 'petal width (cm)']}\n",
      "np         module     <module 'numpy' from '/ho<...>kages/numpy/__init__.py'>\n",
      "plt        module     <module 'matplotlib.pyplo<...>es/matplotlib/pyplot.py'>\n",
      "y          ndarray    100: 100 elems, type `int64`, 800 bytes\n"
     ]
    }
   ],
   "source": [
    "whos"
   ]
  },
  {
   "cell_type": "code",
   "execution_count": null,
   "metadata": {},
   "outputs": [],
   "source": []
  }
 ],
 "metadata": {
  "kernelspec": {
   "display_name": "Python 3",
   "language": "python",
   "name": "python3"
  },
  "language_info": {
   "codemirror_mode": {
    "name": "ipython",
    "version": 3
   },
   "file_extension": ".py",
   "mimetype": "text/x-python",
   "name": "python",
   "nbconvert_exporter": "python",
   "pygments_lexer": "ipython3",
   "version": "3.6.6"
  }
 },
 "nbformat": 4,
 "nbformat_minor": 2
}
