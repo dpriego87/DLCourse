{
 "cells": [
  {
   "cell_type": "code",
   "execution_count": 1,
   "metadata": {},
   "outputs": [
    {
     "name": "stderr",
     "output_type": "stream",
     "text": [
      "Using TensorFlow backend.\n"
     ]
    }
   ],
   "source": [
    "# Imports\n",
    "import numpy as np\n",
    "import matplotlib.pyplot as plt\n",
    "from keras.datasets import mnist\n",
    "from keras.utils import np_utils\n",
    "from keras import Sequential\n",
    "from keras.layers import Dense, Dropout, BatchNormalization, Activation\n",
    "from keras.regularizers import l2, l1"
   ]
  },
  {
   "cell_type": "code",
   "execution_count": 2,
   "metadata": {},
   "outputs": [
    {
     "name": "stdout",
     "output_type": "stream",
     "text": [
      "Training set:\n",
      "(60000, 784)\n",
      "(60000, 10)\n",
      "Test set:\n",
      "(10000, 784)\n",
      "(10000, 10)\n"
     ]
    }
   ],
   "source": [
    "# Load MNIST dataset\n",
    "(x_train, y_train), (x_test, y_test) = mnist.load_data()\n",
    "x_train = x_train.astype('float32') / 255.0\n",
    "x_test = x_test.astype('float32') / 255.0\n",
    "x_train = x_train.reshape((len(x_train), np.prod(x_train.shape[1:])))\n",
    "x_test = x_test.reshape((len(x_test), np.prod(x_test.shape[1:])))\n",
    "y_train = np_utils.to_categorical(y_train)\n",
    "y_test = np_utils.to_categorical(y_test)\n",
    "print(\"Training set:\")\n",
    "print(x_train.shape)\n",
    "print(y_train.shape)\n",
    "print(\"Test set:\")\n",
    "print(x_test.shape)\n",
    "print(y_test.shape)"
   ]
  },
  {
   "cell_type": "code",
   "execution_count": 3,
   "metadata": {},
   "outputs": [
    {
     "name": "stdout",
     "output_type": "stream",
     "text": [
      "Taking 12000 validation samples\n",
      "Training set:\n",
      "(48000, 784)\n",
      "(48000, 10)\n",
      "Validation set:\n",
      "(12000, 784)\n",
      "(12000, 10)\n"
     ]
    }
   ],
   "source": [
    "# Split train into train and validation\n",
    "validation_rate = 0.2\n",
    "n_train_samples = round(validation_rate * len(x_train))\n",
    "print(\"Taking {} validation samples\".format(n_train_samples))\n",
    "x_val = x_train[:n_train_samples]\n",
    "y_val = y_train[:n_train_samples]\n",
    "x_train = x_train[n_train_samples:]\n",
    "y_train = y_train[n_train_samples:]\n",
    "print(\"Training set:\")\n",
    "print(x_train.shape)\n",
    "print(y_train.shape)\n",
    "print(\"Validation set:\")\n",
    "print(x_val.shape)\n",
    "print(y_val.shape)"
   ]
  },
  {
   "cell_type": "code",
   "execution_count": 4,
   "metadata": {},
   "outputs": [
    {
     "name": "stdout",
     "output_type": "stream",
     "text": [
      "[8 2 6 5 4 3 0 1 7 9]\n"
     ]
    }
   ],
   "source": [
    "IDX = np.random.permutation(10)\n",
    "print(IDX)"
   ]
  },
  {
   "cell_type": "code",
   "execution_count": 5,
   "metadata": {},
   "outputs": [
    {
     "name": "stdout",
     "output_type": "stream",
     "text": [
      "_________________________________________________________________\n",
      "Layer (type)                 Output Shape              Param #   \n",
      "=================================================================\n",
      "dense_1 (Dense)              (None, 512)               401920    \n",
      "_________________________________________________________________\n",
      "dropout_1 (Dropout)          (None, 512)               0         \n",
      "_________________________________________________________________\n",
      "dense_2 (Dense)              (None, 264)               135432    \n",
      "_________________________________________________________________\n",
      "dense_3 (Dense)              (None, 128)               33920     \n",
      "_________________________________________________________________\n",
      "dense_4 (Dense)              (None, 64)                8256      \n",
      "_________________________________________________________________\n",
      "dropout_2 (Dropout)          (None, 64)                0         \n",
      "_________________________________________________________________\n",
      "dense_5 (Dense)              (None, 10)                650       \n",
      "=================================================================\n",
      "Total params: 580,178\n",
      "Trainable params: 580,178\n",
      "Non-trainable params: 0\n",
      "_________________________________________________________________\n"
     ]
    }
   ],
   "source": [
    "# Build your model architecture (layers with activations), and print summary\n",
    "model = Sequential()\n",
    "model.add(Dense(units=512, input_dim=x_train.shape[1], activation='relu', kernel_regularizer=l2(9e-6)))\n",
    "model.add(Dropout(0.5))\n",
    "model.add(Dense(units=264, activation='relu', kernel_regularizer=l1(3e-6)))\n",
    "model.add(Dense(units=128, activation='relu', kernel_regularizer=l1(9e-5)))\n",
    "model.add(Dense(units=64,  activation='relu', kernel_regularizer=l2(3e-3)))\n",
    "model.add(Dropout(0.2))\n",
    "model.add(Dense(units=10, activation='softmax'))\n",
    "model.summary()"
   ]
  },
  {
   "cell_type": "code",
   "execution_count": 6,
   "metadata": {},
   "outputs": [],
   "source": [
    "# Compile your model (define optimizer and loss function)\n",
    "model.compile(optimizer='adadelta', loss='categorical_crossentropy')"
   ]
  },
  {
   "cell_type": "code",
   "execution_count": 7,
   "metadata": {},
   "outputs": [
    {
     "name": "stdout",
     "output_type": "stream",
     "text": [
      "Training on 48000 samples - validating on 12000 samples.\n",
      "Epoch:   1 -- Train loss: 0.4632 -- Val loss: 0.4725\n",
      "Epoch:   2 -- Train loss: 0.3116 -- Val loss: 0.3301\n",
      "Epoch:   3 -- Train loss: 0.2364 -- Val loss: 0.2518\n",
      "Epoch:   4 -- Train loss: 0.1870 -- Val loss: 0.2094\n",
      "Epoch:   5 -- Train loss: 0.1678 -- Val loss: 0.1991\n",
      "Epoch:   6 -- Train loss: 0.1395 -- Val loss: 0.1701\n",
      "Epoch:   7 -- Train loss: 0.1289 -- Val loss: 0.1624\n",
      "Epoch:   8 -- Train loss: 0.1176 -- Val loss: 0.1505\n",
      "Epoch:   9 -- Train loss: 0.1060 -- Val loss: 0.1405\n",
      "Epoch:  10 -- Train loss: 0.0959 -- Val loss: 0.1345\n",
      "Epoch:  11 -- Train loss: 0.0936 -- Val loss: 0.1344\n",
      "Epoch:  12 -- Train loss: 0.0893 -- Val loss: 0.1317\n",
      "Epoch:  13 -- Train loss: 0.0866 -- Val loss: 0.1304\n",
      "Epoch:  14 -- Train loss: 0.0782 -- Val loss: 0.1239\n",
      "Epoch:  15 -- Train loss: 0.0754 -- Val loss: 0.1210\n",
      "Epoch:  16 -- Train loss: 0.0734 -- Val loss: 0.1212\n",
      "Epoch:  17 -- Train loss: 0.0694 -- Val loss: 0.1170\n",
      "Epoch:  18 -- Train loss: 0.0703 -- Val loss: 0.1197\n",
      "Epoch:  19 -- Train loss: 0.0647 -- Val loss: 0.1183\n",
      "Epoch:  20 -- Train loss: 0.0645 -- Val loss: 0.1150\n",
      "Epoch:  21 -- Train loss: 0.0598 -- Val loss: 0.1125\n",
      "Epoch:  22 -- Train loss: 0.0593 -- Val loss: 0.1150\n",
      "Epoch:  23 -- Train loss: 0.0587 -- Val loss: 0.1165\n",
      "Epoch:  24 -- Train loss: 0.0565 -- Val loss: 0.1114\n",
      "Epoch:  25 -- Train loss: 0.0535 -- Val loss: 0.1078\n",
      "Epoch:  26 -- Train loss: 0.0540 -- Val loss: 0.1132\n",
      "Epoch:  27 -- Train loss: 0.0520 -- Val loss: 0.1103\n",
      "Epoch:  28 -- Train loss: 0.0506 -- Val loss: 0.1074\n",
      "Epoch:  29 -- Train loss: 0.0492 -- Val loss: 0.1088\n",
      "Epoch:  30 -- Train loss: 0.0504 -- Val loss: 0.1080\n",
      "Epoch:  31 -- Train loss: 0.0488 -- Val loss: 0.1068\n",
      "Epoch:  32 -- Train loss: 0.0480 -- Val loss: 0.1080\n",
      "Epoch:  33 -- Train loss: 0.0466 -- Val loss: 0.1046\n",
      "Epoch:  34 -- Train loss: 0.0459 -- Val loss: 0.1048\n",
      "Epoch:  35 -- Train loss: 0.0452 -- Val loss: 0.1071\n",
      "Epoch:  36 -- Train loss: 0.0442 -- Val loss: 0.1047\n",
      "Epoch:  37 -- Train loss: 0.0441 -- Val loss: 0.1080\n",
      "Epoch:  38 -- Train loss: 0.0437 -- Val loss: 0.1061\n",
      "Epoch:  39 -- Train loss: 0.0426 -- Val loss: 0.1020\n",
      "Epoch:  40 -- Train loss: 0.0421 -- Val loss: 0.0998\n",
      "Epoch:  41 -- Train loss: 0.0420 -- Val loss: 0.1050\n",
      "Epoch:  42 -- Train loss: 0.0409 -- Val loss: 0.1027\n",
      "Epoch:  43 -- Train loss: 0.0400 -- Val loss: 0.1033\n",
      "Epoch:  44 -- Train loss: 0.0394 -- Val loss: 0.0998\n",
      "Epoch:  45 -- Train loss: 0.0396 -- Val loss: 0.1051\n",
      "Epoch:  46 -- Train loss: 0.0393 -- Val loss: 0.1041\n",
      "Epoch:  47 -- Train loss: 0.0382 -- Val loss: 0.1000\n",
      "Epoch:  48 -- Train loss: 0.0388 -- Val loss: 0.1022\n",
      "Epoch:  49 -- Train loss: 0.0373 -- Val loss: 0.0997\n",
      "Epoch:  50 -- Train loss: 0.0374 -- Val loss: 0.1040\n",
      "Epoch:  51 -- Train loss: 0.0368 -- Val loss: 0.1018\n",
      "Epoch:  52 -- Train loss: 0.0359 -- Val loss: 0.0990\n",
      "Epoch:  53 -- Train loss: 0.0359 -- Val loss: 0.0977\n",
      "Epoch:  54 -- Train loss: 0.0353 -- Val loss: 0.0971\n",
      "Epoch:  55 -- Train loss: 0.0350 -- Val loss: 0.1011\n",
      "Epoch:  56 -- Train loss: 0.0348 -- Val loss: 0.0993\n",
      "Epoch:  57 -- Train loss: 0.0351 -- Val loss: 0.1001\n",
      "Epoch:  58 -- Train loss: 0.0348 -- Val loss: 0.1010\n",
      "Epoch:  59 -- Train loss: 0.0338 -- Val loss: 0.0987\n",
      "Epoch:  60 -- Train loss: 0.0337 -- Val loss: 0.0973\n",
      "Epoch:  61 -- Train loss: 0.0337 -- Val loss: 0.0993\n",
      "Epoch:  62 -- Train loss: 0.0334 -- Val loss: 0.0998\n",
      "Epoch:  63 -- Train loss: 0.0331 -- Val loss: 0.0989\n",
      "Epoch:  64 -- Train loss: 0.0326 -- Val loss: 0.1006\n",
      "Epoch:  65 -- Train loss: 0.0321 -- Val loss: 0.0980\n",
      "Epoch:  66 -- Train loss: 0.0321 -- Val loss: 0.0980\n",
      "Epoch:  67 -- Train loss: 0.0321 -- Val loss: 0.0992\n",
      "Epoch:  68 -- Train loss: 0.0317 -- Val loss: 0.1002\n",
      "Epoch:  69 -- Train loss: 0.0314 -- Val loss: 0.0993\n",
      "Epoch:  70 -- Train loss: 0.0311 -- Val loss: 0.0999\n",
      "Epoch:  71 -- Train loss: 0.0310 -- Val loss: 0.0986\n",
      "Epoch:  72 -- Train loss: 0.0308 -- Val loss: 0.0959\n",
      "Epoch:  73 -- Train loss: 0.0306 -- Val loss: 0.0981\n",
      "Epoch:  74 -- Train loss: 0.0304 -- Val loss: 0.1018\n",
      "Epoch:  75 -- Train loss: 0.0302 -- Val loss: 0.1017\n",
      "Epoch:  76 -- Train loss: 0.0302 -- Val loss: 0.0982\n",
      "Epoch:  77 -- Train loss: 0.0302 -- Val loss: 0.1014\n",
      "Epoch:  78 -- Train loss: 0.0295 -- Val loss: 0.0987\n",
      "Epoch:  79 -- Train loss: 0.0294 -- Val loss: 0.0949\n",
      "Epoch:  80 -- Train loss: 0.0292 -- Val loss: 0.0974\n",
      "Epoch:  81 -- Train loss: 0.0291 -- Val loss: 0.0957\n",
      "Epoch:  82 -- Train loss: 0.0288 -- Val loss: 0.0985\n",
      "Epoch:  83 -- Train loss: 0.0292 -- Val loss: 0.0960\n",
      "Epoch:  84 -- Train loss: 0.0289 -- Val loss: 0.0959\n",
      "Epoch:  85 -- Train loss: 0.0287 -- Val loss: 0.0969\n",
      "Epoch:  86 -- Train loss: 0.0282 -- Val loss: 0.0952\n",
      "Epoch:  87 -- Train loss: 0.0281 -- Val loss: 0.0986\n",
      "Epoch:  88 -- Train loss: 0.0278 -- Val loss: 0.0964\n",
      "Epoch:  89 -- Train loss: 0.0279 -- Val loss: 0.0969\n",
      "Epoch:  90 -- Train loss: 0.0277 -- Val loss: 0.0932\n",
      "Epoch:  91 -- Train loss: 0.0273 -- Val loss: 0.0948\n",
      "Epoch:  92 -- Train loss: 0.0274 -- Val loss: 0.0958\n",
      "Epoch:  93 -- Train loss: 0.0272 -- Val loss: 0.0927\n",
      "Epoch:  94 -- Train loss: 0.0269 -- Val loss: 0.0944\n",
      "Epoch:  95 -- Train loss: 0.0267 -- Val loss: 0.0913\n",
      "Epoch:  96 -- Train loss: 0.0272 -- Val loss: 0.0980\n",
      "Epoch:  97 -- Train loss: 0.0266 -- Val loss: 0.0945\n",
      "Epoch:  98 -- Train loss: 0.0264 -- Val loss: 0.0948\n",
      "Epoch:  99 -- Train loss: 0.0263 -- Val loss: 0.0976\n",
      "Epoch: 100 -- Train loss: 0.0261 -- Val loss: 0.0956\n"
     ]
    }
   ],
   "source": [
    "# Train your model\n",
    "num_epochs = 100\n",
    "losses = np.zeros((num_epochs, 2))\n",
    "print(f\"Training on {x_train.shape[0]} samples - validating on {x_val.shape[0]} samples.\")\n",
    "for epoch in range(num_epochs):\n",
    "    print(f\"Epoch: {epoch+1:3d} -- \", end=\"\")\n",
    "    model.fit(x_train, y_train, epochs=1, batch_size=128, verbose=False)\n",
    "    losses[epoch, 0] = model.evaluate(x_train, y_train, verbose=False)\n",
    "    losses[epoch, 1] = model.evaluate(x_val, y_val, verbose=False)\n",
    "    print(f\"Train loss: {losses[epoch, 0]:6.4f} -- Val loss: {losses[epoch, 1]:6.4f}\")"
   ]
  },
  {
   "cell_type": "code",
   "execution_count": 8,
   "metadata": {},
   "outputs": [
    {
     "data": {
      "image/png": "[encoded data removed]",
      "text/plain": [
       "<Figure size 864x648 with 1 Axes>"
      ]
     },
     "metadata": {},
     "output_type": "display_data"
    }
   ],
   "source": [
    "# Plot training history\n",
    "plt.figure(figsize=(12, 9))\n",
    "plt.plot(losses[:, 0], label='Training', linewidth=2)\n",
    "plt.plot(losses[:, 1], label='Validation', linewidth=2)\n",
    "plt.legend(fontsize=18)\n",
    "plt.xlabel(\"Epoch\", fontsize=18)\n",
    "plt.ylabel(\"Loss\", fontsize=18)\n",
    "plt.ylim([0, 0.5])\n",
    "plt.tick_params(labelsize=18)"
   ]
  },
  {
   "cell_type": "code",
   "execution_count": 9,
   "metadata": {},
   "outputs": [
    {
     "name": "stdout",
     "output_type": "stream",
     "text": [
      "10000/10000 [==============================] - 1s 84us/step\n",
      "Test error: 0.0901\n",
      "[0. 0. 0. 0. 0. 0. 0. 1. 0. 0.]\n",
      "[0. 0. 0. 0. 0. 0. 0. 1. 0. 0.]\n",
      "\n",
      "\n",
      "[0. 0. 1. 0. 0. 0. 0. 0. 0. 0.]\n",
      "[0. 0. 1. 0. 0. 0. 0. 0. 0. 0.]\n",
      "\n",
      "\n",
      "[0. 1. 0. 0. 0. 0. 0. 0. 0. 0.]\n",
      "[0. 1. 0. 0. 0. 0. 0. 0. 0. 0.]\n",
      "\n",
      "\n",
      "[1. 0. 0. 0. 0. 0. 0. 0. 0. 0.]\n",
      "[1. 0. 0. 0. 0. 0. 0. 0. 0. 0.]\n",
      "\n",
      "\n",
      "[0. 0. 0. 0. 1. 0. 0. 0. 0. 0.]\n",
      "[0. 0. 0. 0. 1. 0. 0. 0. 0. 0.]\n",
      "\n",
      "\n",
      "[0. 1. 0. 0. 0. 0. 0. 0. 0. 0.]\n",
      "[0. 1. 0. 0. 0. 0. 0. 0. 0. 0.]\n",
      "\n",
      "\n",
      "[0. 0. 0. 0. 1. 0. 0. 0. 0. 0.]\n",
      "[0. 0. 0. 0. 1. 0. 0. 0. 0. 0.]\n",
      "\n",
      "\n",
      "[0. 0. 0. 0. 0. 0. 0. 0. 0. 1.]\n",
      "[0. 0. 0. 0. 0. 0. 0. 0. 0. 1.]\n",
      "\n",
      "\n",
      "[0. 0. 0. 0. 0. 1. 0. 0. 0. 0.]\n",
      "[0. 0. 0. 0. 0. 1. 0. 0. 0. 0.]\n",
      "\n",
      "\n",
      "[0. 0. 0. 0. 0. 0. 0. 0. 0. 1.]\n",
      "[0. 0. 0. 0. 0. 0. 0. 0. 0. 1.]\n",
      "\n",
      "\n"
     ]
    }
   ],
   "source": [
    "# Make predictions for test set and evaluate performance\n",
    "y_hat = model.predict(x_test)\n",
    "test_loss = model.evaluate(x_test, y_test)\n",
    "print(\"Test error: {:6.4f}\".format(test_loss))\n",
    "for i in range(10):\n",
    "    print(y_test[i])\n",
    "    print(np.round(y_hat[i]))\n",
    "    print(\"\\n\")"
   ]
  },
  {
   "cell_type": "code",
   "execution_count": 26,
   "metadata": {},
   "outputs": [
    {
     "data": {
      "text/plain": [
       "<matplotlib.colorbar.Colorbar at 0x7f96e57af978>"
      ]
     },
     "execution_count": 26,
     "metadata": {},
     "output_type": "execute_result"
    },
    {
     "data": {
      "image/png": "[encoded data removed]",
      "text/plain": [
       "<Figure size 432x288 with 2 Axes>"
      ]
     },
     "metadata": {},
     "output_type": "display_data"
    }
   ],
   "source": [
    "#\n",
    "y_true = np.argmax(y_test, axis=1)\n",
    "y_pred = np.argmax(y_hat, axis=1)\n",
    "from sklearn.metrics import confusion_matrix\n",
    "conf_matrix = confusion_matrix(y_true, y_pred)\n",
    "plt.imshow(conf_matrix, interpolation='nearest')\n",
    "plt.title(\"Confusion Matrix\")\n",
    "plt.colorbar()"
   ]
  },
  {
   "cell_type": "code",
   "execution_count": null,
   "metadata": {},
   "outputs": [],
   "source": []
  },
  {
   "cell_type": "code",
   "execution_count": 21,
   "metadata": {},
   "outputs": [
    {
     "name": "stdout",
     "output_type": "stream",
     "text": [
      "Variable             Type          Data/Info\n",
      "--------------------------------------------\n",
      "Activation           type          <class 'keras.layers.core.Activation'>\n",
      "BatchNormalization   type          <class 'keras.layers.norm<...>tion.BatchNormalization'>\n",
      "Dense                type          <class 'keras.layers.core.Dense'>\n",
      "Dropout              type          <class 'keras.layers.core.Dropout'>\n",
      "IDX                  ndarray       10: 10 elems, type `int64`, 80 bytes\n",
      "Sequential           type          <class 'keras.engine.sequential.Sequential'>\n",
      "epoch                int           99\n",
      "i                    int           9\n",
      "l1                   function      <function l1 at 0x7f972ae95620>\n",
      "l2                   function      <function l2 at 0x7f972ae95950>\n",
      "losses               ndarray       100x2: 200 elems, type `float64`, 1600 bytes\n",
      "mnist                module        <module 'keras.datasets.m<...>keras/datasets/mnist.py'>\n",
      "model                Sequential    <keras.engine.sequential.<...>object at 0x7f972ad514e0>\n",
      "n_train_samples      int           12000\n",
      "np                   module        <module 'numpy' from '/ho<...>kages/numpy/__init__.py'>\n",
      "np_utils             module        <module 'keras.utils.np_u<...>keras/utils/np_utils.py'>\n",
      "num_epochs           int           100\n",
      "plt                  module        <module 'matplotlib.pyplo<...>es/matplotlib/pyplot.py'>\n",
      "test_loss            float64       0.0900966659128666\n",
      "validation_rate      float         0.2\n",
      "x_test               ndarray       10000x784: 7840000 elems, type `float32`, 31360000 bytes (29.9072265625 Mb)\n",
      "x_train              ndarray       48000x784: 37632000 elems, type `float32`, 150528000 bytes (143.5546875 Mb)\n",
      "x_val                ndarray       12000x784: 9408000 elems, type `float32`, 37632000 bytes (35.888671875 Mb)\n",
      "y_hat                ndarray       10000x10: 100000 elems, type `float32`, 400000 bytes (390.625 kb)\n",
      "y_test               ndarray       10000x10: 100000 elems, type `float32`, 400000 bytes (390.625 kb)\n",
      "y_train              ndarray       48000x10: 480000 elems, type `float32`, 1920000 bytes (1.8310546875 Mb)\n",
      "y_true               ndarray       10000: 10000 elems, type `int64`, 80000 bytes\n",
      "y_val                ndarray       12000x10: 120000 elems, type `float32`, 480000 bytes (468.75 kb)\n"
     ]
    }
   ],
   "source": [
    "whos"
   ]
  },
  {
   "cell_type": "code",
   "execution_count": null,
   "metadata": {},
   "outputs": [],
   "source": []
  }
 ],
 "metadata": {
  "kernelspec": {
   "display_name": "Python 3",
   "language": "python",
   "name": "python3"
  },
  "language_info": {
   "codemirror_mode": {
    "name": "ipython",
    "version": 3
   },
   "file_extension": ".py",
   "mimetype": "text/x-python",
   "name": "python",
   "nbconvert_exporter": "python",
   "pygments_lexer": "ipython3",
   "version": "3.6.6"
  }
 },
 "nbformat": 4,
 "nbformat_minor": 2
}
