{
 "cells": [
  {
   "cell_type": "code",
   "execution_count": 1,
   "metadata": {},
   "outputs": [],
   "source": [
    "#\n",
    "import numpy as np\n",
    "from sklearn import datasets\n",
    "import matplotlib.pyplot as plt"
   ]
  },
  {
   "cell_type": "code",
   "execution_count": 2,
   "metadata": {},
   "outputs": [],
   "source": [
    "# Import the Iris dataset\n",
    "iris = datasets.load_iris()\n",
    "X = iris.data[:100, :]  # Features: Take just the first 2 dimensions from the first 100 elements.\n",
    "y = iris.target[:100]"
   ]
  },
  {
   "cell_type": "code",
   "execution_count": 3,
   "metadata": {},
   "outputs": [
    {
     "name": "stdout",
     "output_type": "stream",
     "text": [
      "(100, 4)\n",
      "(100,)\n",
      "[[5.1 3.5 1.4 0.2]\n",
      " [4.9 3.  1.4 0.2]\n",
      " [4.7 3.2 1.3 0.2]\n",
      " [4.6 3.1 1.5 0.2]\n",
      " [5.  3.6 1.4 0.2]]\n",
      "[0 0 0 0 0 0 0 0 0 0 0 0 0 0 0 0 0 0 0 0 0 0 0 0 0 0 0 0 0 0 0 0 0 0 0 0 0\n",
      " 0 0 0 0 0 0 0 0 0 0 0 0 0 1 1 1 1 1 1 1 1 1 1 1 1 1 1 1 1 1 1 1 1 1 1 1 1\n",
      " 1 1 1 1 1 1 1 1 1 1 1 1 1 1 1 1 1 1 1 1 1 1 1 1 1 1]\n"
     ]
    }
   ],
   "source": [
    "# Print info\n",
    "print(X.shape)\n",
    "print(y.shape)\n",
    "print(X[:5])\n",
    "print(y)"
   ]
  },
  {
   "cell_type": "code",
   "execution_count": 17,
   "metadata": {},
   "outputs": [],
   "source": [
    "#\n",
    "from keras import Sequential\n",
    "from keras.layers import Dense, Activation"
   ]
  },
  {
   "cell_type": "code",
   "execution_count": 27,
   "metadata": {},
   "outputs": [
    {
     "name": "stdout",
     "output_type": "stream",
     "text": [
      "_________________________________________________________________\n",
      "Layer (type)                 Output Shape              Param #   \n",
      "=================================================================\n",
      "dense_6 (Dense)              (None, 1)                 5         \n",
      "_________________________________________________________________\n",
      "activation_6 (Activation)    (None, 1)                 0         \n",
      "=================================================================\n",
      "Total params: 5\n",
      "Trainable params: 5\n",
      "Non-trainable params: 0\n",
      "_________________________________________________________________\n"
     ]
    }
   ],
   "source": [
    "# Build model\n",
    "model = Sequential()\n",
    "model.add(Dense(units=1, input_dim=X.shape[1]))\n",
    "model.add(Activation('sigmoid'))\n",
    "model.summary()"
   ]
  },
  {
   "cell_type": "code",
   "execution_count": 29,
   "metadata": {},
   "outputs": [
    {
     "data": {
      "text/plain": [
       "<tf.Variable 'SGD_9/lr:0' shape=() dtype=float32_ref>"
      ]
     },
     "execution_count": 29,
     "metadata": {},
     "output_type": "execute_result"
    }
   ],
   "source": [
    "# Compile model\n",
    "model.compile(optimizer='sgd', loss='mean_squared_error')\n",
    "model.optimizer.lr"
   ]
  },
  {
   "cell_type": "code",
   "execution_count": 30,
   "metadata": {},
   "outputs": [
    {
     "name": "stdout",
     "output_type": "stream",
     "text": [
      "Epoch 1/50\n",
      "100/100 [==============================] - 0s 2ms/step - loss: 0.3488\n",
      "Epoch 2/50\n",
      "100/100 [==============================] - 0s 475us/step - loss: 0.1583\n",
      "Epoch 3/50\n",
      "100/100 [==============================] - 0s 479us/step - loss: 0.1095\n",
      "Epoch 4/50\n",
      "100/100 [==============================] - 0s 442us/step - loss: 0.0810\n",
      "Epoch 5/50\n",
      "100/100 [==============================] - 0s 494us/step - loss: 0.0624\n",
      "Epoch 6/50\n",
      "100/100 [==============================] - 0s 475us/step - loss: 0.0509\n",
      "Epoch 7/50\n",
      "100/100 [==============================] - 0s 481us/step - loss: 0.0427\n",
      "Epoch 8/50\n",
      "100/100 [==============================] - 0s 566us/step - loss: 0.0364\n",
      "Epoch 9/50\n",
      "100/100 [==============================] - 0s 486us/step - loss: 0.0320\n",
      "Epoch 10/50\n",
      "100/100 [==============================] - 0s 542us/step - loss: 0.0283\n",
      "Epoch 11/50\n",
      "100/100 [==============================] - 0s 548us/step - loss: 0.0252\n",
      "Epoch 12/50\n",
      "100/100 [==============================] - 0s 522us/step - loss: 0.0229\n",
      "Epoch 13/50\n",
      "100/100 [==============================] - 0s 512us/step - loss: 0.0210\n",
      "Epoch 14/50\n",
      "100/100 [==============================] - 0s 570us/step - loss: 0.0194\n",
      "Epoch 15/50\n",
      "100/100 [==============================] - 0s 474us/step - loss: 0.0179\n",
      "Epoch 16/50\n",
      "100/100 [==============================] - 0s 440us/step - loss: 0.0167\n",
      "Epoch 17/50\n",
      "100/100 [==============================] - 0s 507us/step - loss: 0.0156\n",
      "Epoch 18/50\n",
      "100/100 [==============================] - 0s 520us/step - loss: 0.0147\n",
      "Epoch 19/50\n",
      "100/100 [==============================] - 0s 502us/step - loss: 0.0138\n",
      "Epoch 20/50\n",
      "100/100 [==============================] - 0s 452us/step - loss: 0.0131\n",
      "Epoch 21/50\n",
      "100/100 [==============================] - 0s 538us/step - loss: 0.0124\n",
      "Epoch 22/50\n",
      "100/100 [==============================] - 0s 554us/step - loss: 0.0118\n",
      "Epoch 23/50\n",
      "100/100 [==============================] - 0s 488us/step - loss: 0.0113\n",
      "Epoch 24/50\n",
      "100/100 [==============================] - 0s 570us/step - loss: 0.0107\n",
      "Epoch 25/50\n",
      "100/100 [==============================] - 0s 483us/step - loss: 0.0103\n",
      "Epoch 26/50\n",
      "100/100 [==============================] - 0s 732us/step - loss: 0.0099\n",
      "Epoch 27/50\n",
      "100/100 [==============================] - 0s 824us/step - loss: 0.0095\n",
      "Epoch 28/50\n",
      "100/100 [==============================] - 0s 717us/step - loss: 0.0091\n",
      "Epoch 29/50\n",
      "100/100 [==============================] - 0s 608us/step - loss: 0.0088\n",
      "Epoch 30/50\n",
      "100/100 [==============================] - 0s 691us/step - loss: 0.0085\n",
      "Epoch 31/50\n",
      "100/100 [==============================] - 0s 672us/step - loss: 0.0082\n",
      "Epoch 32/50\n",
      "100/100 [==============================] - 0s 619us/step - loss: 0.0080\n",
      "Epoch 33/50\n",
      "100/100 [==============================] - 0s 532us/step - loss: 0.0077\n",
      "Epoch 34/50\n",
      "100/100 [==============================] - 0s 510us/step - loss: 0.0075\n",
      "Epoch 35/50\n",
      "100/100 [==============================] - 0s 446us/step - loss: 0.0073\n",
      "Epoch 36/50\n",
      "100/100 [==============================] - 0s 624us/step - loss: 0.0070\n",
      "Epoch 37/50\n",
      "100/100 [==============================] - 0s 692us/step - loss: 0.0069\n",
      "Epoch 38/50\n",
      "100/100 [==============================] - 0s 784us/step - loss: 0.0067\n",
      "Epoch 39/50\n",
      "100/100 [==============================] - 0s 831us/step - loss: 0.0065\n",
      "Epoch 40/50\n",
      "100/100 [==============================] - 0s 623us/step - loss: 0.0063\n",
      "Epoch 41/50\n",
      "100/100 [==============================] - 0s 620us/step - loss: 0.0062\n",
      "Epoch 42/50\n",
      "100/100 [==============================] - 0s 668us/step - loss: 0.0060\n",
      "Epoch 43/50\n",
      "100/100 [==============================] - 0s 595us/step - loss: 0.0059\n",
      "Epoch 44/50\n",
      "100/100 [==============================] - 0s 443us/step - loss: 0.0057\n",
      "Epoch 45/50\n",
      "100/100 [==============================] - 0s 479us/step - loss: 0.0056\n",
      "Epoch 46/50\n",
      "100/100 [==============================] - 0s 484us/step - loss: 0.0055\n",
      "Epoch 47/50\n",
      "100/100 [==============================] - 0s 442us/step - loss: 0.0054\n",
      "Epoch 48/50\n",
      "100/100 [==============================] - 0s 595us/step - loss: 0.0053\n",
      "Epoch 49/50\n",
      "100/100 [==============================] - 0s 565us/step - loss: 0.0051\n",
      "Epoch 50/50\n",
      "100/100 [==============================] - 0s 599us/step - loss: 0.0050\n"
     ]
    },
    {
     "data": {
      "text/plain": [
       "<keras.callbacks.History at 0x7f3c4009c8d0>"
      ]
     },
     "execution_count": 30,
     "metadata": {},
     "output_type": "execute_result"
    }
   ],
   "source": [
    "model.fit(X, y, epochs=10, batch_size=32)"
   ]
  },
  {
   "cell_type": "code",
   "execution_count": null,
   "metadata": {},
   "outputs": [],
   "source": []
  }
 ],
 "metadata": {
  "kernelspec": {
   "display_name": "Python 3",
   "language": "python",
   "name": "python3"
  },
  "language_info": {
   "codemirror_mode": {
    "name": "ipython",
    "version": 3
   },
   "file_extension": ".py",
   "mimetype": "text/x-python",
   "name": "python",
   "nbconvert_exporter": "python",
   "pygments_lexer": "ipython3",
   "version": "3.6.6"
  }
 },
 "nbformat": 4,
 "nbformat_minor": 2
}
