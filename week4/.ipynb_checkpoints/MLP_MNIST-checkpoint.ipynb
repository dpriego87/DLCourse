{
 "cells": [
  {
   "cell_type": "code",
   "execution_count": 1,
   "metadata": {},
   "outputs": [],
   "source": [
    "#Este notebook carga el dataset MNIST, imprime algunos ejemplos, y despues extrae sólo dos clases indicadas (ejemplo: 0, 1)\n",
    "#para realizar clasificación binaria.\n",
    "#Tareas:\n",
    "#- Diseña un MLP y entrenalo para realizar clasificación binaria.\n",
    "#- Juega con distintas arquitrecturas para ver con cuál obtienes menor pérdida.\n",
    "#  desde un perceptron sigmoide, hasta una red de 4 o 5 capas intermedias (con diferentes cantidades de unidades).\n",
    "#- Evalua el desempeño con diferentes learning rates, tamaño de batches, y número de épocas.\n",
    "#- Elige otras dos clases y repite el proceso (ejemplo, clases 3 vs 8, o 4 vs 9)"
   ]
  },
  {
   "cell_type": "code",
   "execution_count": 6,
   "metadata": {},
   "outputs": [],
   "source": [
    "# Imports\n",
    "import numpy as np\n",
    "import matplotlib.pyplot as plt\n",
    "from keras.datasets import mnist\n",
    "from keras.utils import np_utils\n",
    "from keras import Sequential\n",
    "from keras.layers import Dense, Dropout, BatchNormalization, Activation\n",
    "from keras.regularizers import l2, l1"
   ]
  },
  {
   "cell_type": "code",
   "execution_count": 2,
   "metadata": {},
   "outputs": [
    {
     "name": "stdout",
     "output_type": "stream",
     "text": [
      "Training set:\n",
      "(60000, 784)\n",
      "(60000, 10)\n",
      "Test set:\n",
      "(10000, 784)\n",
      "(10000, 10)\n"
     ]
    }
   ],
   "source": [
    "# Load MNIST dataset\n",
    "(x_train, y_train), (x_test, y_test) = mnist.load_data()\n",
    "x_train = x_train.astype('float32') / 255.0\n",
    "x_test = x_test.astype('float32') / 255.0\n",
    "x_train = x_train.reshape((len(x_train), np.prod(x_train.shape[1:])))\n",
    "x_test = x_test.reshape((len(x_test), np.prod(x_test.shape[1:])))\n",
    "y_train = np_utils.to_categorical(y_train)\n",
    "y_test = np_utils.to_categorical(y_test)\n",
    "print(\"Training set:\")\n",
    "print(x_train.shape)\n",
    "print(y_train.shape)\n",
    "print(\"Test set:\")\n",
    "print(x_test.shape)\n",
    "print(y_test.shape)"
   ]
  },
  {
   "cell_type": "code",
   "execution_count": 3,
   "metadata": {},
   "outputs": [
    {
     "name": "stdout",
     "output_type": "stream",
     "text": [
      "Taking 12000 validation samples\n",
      "Training set:\n",
      "(48000, 784)\n",
      "(48000, 10)\n",
      "Validation set:\n",
      "(12000, 784)\n",
      "(12000, 10)\n"
     ]
    }
   ],
   "source": [
    "# Split train into train and validation\n",
    "validation_rate = 0.2\n",
    "n_train_samples = round(validation_rate * len(x_train))\n",
    "print(\"Taking {} validation samples\".format(n_train_samples))\n",
    "x_val = x_train[:n_train_samples]\n",
    "y_val = y_train[:n_train_samples]\n",
    "x_train = x_train[n_train_samples:]\n",
    "y_train = y_train[n_train_samples:]\n",
    "print(\"Training set:\")\n",
    "print(x_train.shape)\n",
    "print(y_train.shape)\n",
    "print(\"Validation set:\")\n",
    "print(x_val.shape)\n",
    "print(y_val.shape)"
   ]
  },
  {
   "cell_type": "code",
   "execution_count": 16,
   "metadata": {},
   "outputs": [],
   "source": [
    "# Build your model architecture (layers with activations), and print summary\n",
    "model = Sequential()\n",
    "model.add(Dense(units=, input_dim=x_train.shape[1], activation=''))\n",
    "model.add(Dense(units=, activation=''))\n",
    "model.add(Dense(units=, activation=''))\n",
    "model.summary()"
   ]
  },
  {
   "cell_type": "code",
   "execution_count": 13,
   "metadata": {},
   "outputs": [],
   "source": [
    "# Compile your model (define optimizer and loss function)\n",
    "model.compile(optimizer='rmsprop', loss='categorical_crossentropy')"
   ]
  },
  {
   "cell_type": "code",
   "execution_count": 14,
   "metadata": {},
   "outputs": [
    {
     "name": "stdout",
     "output_type": "stream",
     "text": [
      "Training on 48000 samples - validating on 12000 samples.\n",
      "Epoch:   1 -- Train loss: 0.0741 -- Val loss0.1052\n",
      "Epoch:   2 -- Train loss: 0.0442 -- Val loss0.0905\n",
      "Epoch:   3 -- Train loss: 0.0347 -- Val loss0.0945\n",
      "Epoch:   4 -- Train loss: 0.0276 -- Val loss0.0923\n",
      "Epoch:   5 -- Train loss: 0.0129 -- Val loss0.0825\n",
      "Epoch:   6 -- Train loss: 0.0090 -- Val loss0.0764\n",
      "Epoch:   7 -- Train loss: 0.0126 -- Val loss0.0882\n",
      "Epoch:   8 -- Train loss: 0.0083 -- Val loss0.0902\n",
      "Epoch:   9 -- Train loss: 0.0074 -- Val loss0.0956\n",
      "Epoch:  10 -- Train loss: 0.0067 -- Val loss0.0919\n",
      "Epoch:  11 -- Train loss: 0.0047 -- Val loss0.0870\n",
      "Epoch:  12 -- Train loss: 0.0039 -- Val loss0.0887\n",
      "Epoch:  13 -- Train loss: 0.0034 -- Val loss0.0948\n",
      "Epoch:  14 -- Train loss: 0.0039 -- Val loss0.0913\n",
      "Epoch:  15 -- Train loss: 0.0029 -- Val loss0.0996\n",
      "Epoch:  16 -- Train loss: 0.0041 -- Val loss0.0976\n",
      "Epoch:  17 -- Train loss: 0.0032 -- Val loss0.1106\n",
      "Epoch:  18 -- Train loss: 0.0021 -- Val loss0.1049\n",
      "Epoch:  19 -- Train loss: 0.0048 -- Val loss0.1095\n",
      "Epoch:  20 -- Train loss: 0.0033 -- Val loss0.1081\n",
      "Epoch:  21 -- Train loss: 0.0029 -- Val loss0.1066\n",
      "Epoch:  22 -- Train loss: 0.0031 -- Val loss0.1108\n",
      "Epoch:  23 -- Train loss: 0.0033 -- Val loss0.1201\n",
      "Epoch:  24 -- Train loss: 0.0026 -- Val loss0.1010\n",
      "Epoch:  25 -- Train loss: 0.0009 -- Val loss0.1099\n",
      "Epoch:  26 -- Train loss: 0.0018 -- Val loss0.1059\n",
      "Epoch:  27 -- Train loss: 0.0025 -- Val loss0.1185\n",
      "Epoch:  28 -- Train loss: 0.0024 -- Val loss0.1233\n",
      "Epoch:  29 -- Train loss: 0.0018 -- Val loss0.1203\n",
      "Epoch:  30 -- Train loss: 0.0016 -- Val loss0.1117\n",
      "Epoch:  31 -- Train loss: 0.0013 -- Val loss0.1149\n",
      "Epoch:  32 -- Train loss: 0.0015 -- Val loss0.1149\n",
      "Epoch:  33 -- Train loss: 0.0042 -- Val loss0.1186\n",
      "Epoch:  34 -- Train loss: 0.0025 -- Val loss0.1275\n",
      "Epoch:  35 -- Train loss: 0.0014 -- Val loss0.1187\n",
      "Epoch:  36 -- Train loss: 0.0015 -- Val loss0.1197\n",
      "Epoch:  37 -- Train loss: 0.0019 -- Val loss0.1229\n",
      "Epoch:  38 -- Train loss: 0.0048 -- Val loss0.1295\n",
      "Epoch:  39 -- Train loss: 0.0020 -- Val loss0.1284\n",
      "Epoch:  40 -- Train loss: 0.0014 -- Val loss0.1212\n",
      "Epoch:  41 -- Train loss: 0.0008 -- Val loss0.1278\n",
      "Epoch:  42 -- Train loss: 0.0010 -- Val loss0.1211\n",
      "Epoch:  43 -- Train loss: 0.0013 -- Val loss0.1165\n",
      "Epoch:  44 -- Train loss: 0.0015 -- Val loss0.1239\n",
      "Epoch:  45 -- Train loss: 0.0019 -- Val loss0.1395\n",
      "Epoch:  46 -- Train loss: 0.0014 -- Val loss0.1315\n",
      "Epoch:  47 -- Train loss: 0.0006 -- Val loss0.1212\n",
      "Epoch:  48 -- Train loss: 0.0020 -- Val loss0.1392\n",
      "Epoch:  49 -- Train loss: 0.0009 -- Val loss0.1360\n",
      "Epoch:  50 -- Train loss: 0.0005 -- Val loss0.1212\n"
     ]
    }
   ],
   "source": [
    "# Train your model\n",
    "num_epochs = \n",
    "losses = np.zeros((num_epochs, 2))\n",
    "print(f\"Training on {x_train.shape[0]} samples - validating on {x_val.shape[0]} samples.\")\n",
    "for epoch in range(num_epochs):\n",
    "    print(f\"Epoch: {epoch+1:3d} -- \", end=\"\")\n",
    "    model.fit(x_train, y_train, epochs=1, batch_size=128, validation_data=(x_val, y_val), verbose=False)\n",
    "    losses[epoch, 0] = model.evaluate(x_train, y_train, verbose=False)\n",
    "    losses[epoch, 1] = model.evaluate(x_val, y_val, verbose=False)\n",
    "    print(f\"Train loss: {losses[epoch, 0]:6.4f} -- Val loss{losses[epoch, 1]:6.4f}\")"
   ]
  },
  {
   "cell_type": "code",
   "execution_count": 15,
   "metadata": {},
   "outputs": [
    {
     "data": {
      "image/png": "[encoded data removed]",
      "text/plain": [
       "<Figure size 1080x720 with 1 Axes>"
      ]
     },
     "metadata": {},
     "output_type": "display_data"
    }
   ],
   "source": [
    "# Plot training history\n",
    "plt.figure(figsize=(15, 10))\n",
    "plt.plot(losses[:, 0], label='Training', linewidth=2)\n",
    "plt.plot(losses[:, 1], label='Validation', linewidth=2)\n",
    "plt.legend(fontsize=18)\n",
    "plt.xlabel(\"Epoch\", fontsize=18)\n",
    "plt.ylabel(\"Loss\", fontsize=18)\n",
    "plt.ylim([0, 0.5])\n",
    "plt.tick_params(labelsize=18)"
   ]
  },
  {
   "cell_type": "code",
   "execution_count": 17,
   "metadata": {},
   "outputs": [
    {
     "name": "stdout",
     "output_type": "stream",
     "text": [
      "10000/10000 [==============================] - 0s 39us/step\n",
      "Test error: 0.1580\n"
     ]
    }
   ],
   "source": [
    "# Make predictions for test set and evaluate performance\n",
    "y_hat = model.predict(x_test)\n",
    "test_loss = model.evaluate(x_test, y_test)\n",
    "print(\"Test error: {:6.4f}\".format(test_loss))"
   ]
  },
  {
   "cell_type": "code",
   "execution_count": null,
   "metadata": {},
   "outputs": [],
   "source": []
  }
 ],
 "metadata": {
  "kernelspec": {
   "display_name": "Python 3",
   "language": "python",
   "name": "python3"
  },
  "language_info": {
   "codemirror_mode": {
    "name": "ipython",
    "version": 3
   },
   "file_extension": ".py",
   "mimetype": "text/x-python",
   "name": "python",
   "nbconvert_exporter": "python",
   "pygments_lexer": "ipython3",
   "version": "3.6.6"
  }
 },
 "nbformat": 4,
 "nbformat_minor": 2
}
